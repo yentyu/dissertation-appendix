{
 "cells": [
  {
   "cell_type": "code",
   "execution_count": 2,
   "metadata": {
    "ExecuteTime": {
     "end_time": "2019-10-09T17:53:21.262217Z",
     "start_time": "2019-10-09T17:53:21.221844Z"
    }
   },
   "outputs": [
    {
     "data": {
      "text/html": [
       "<style>.container { width:95% !important; }</style>"
      ],
      "text/plain": [
       "<IPython.core.display.HTML object>"
      ]
     },
     "metadata": {},
     "output_type": "display_data"
    }
   ],
   "source": [
    "import dolfin as fn\n",
    "import numpy as np\n",
    "\n",
    "from matplotlib import pyplot as plt\n",
    "%matplotlib inline\n",
    "\n",
    "from projectKL import projectKL\n",
    "import scipy.io as sio\n",
    "\n",
    "from IPython.display import HTML, display\n",
    "display(HTML(\"<style>.container { width:95% !important; }</style>\"))\n",
    "\n",
    "import ipywidgets as wd"
   ]
  },
  {
   "cell_type": "markdown",
   "metadata": {},
   "source": [
    "# Compute KL Expansions\n",
    "\n",
    "In this notebook, we compute the eigenvalues and eigenfunctions of the KL-expansions. This relies on the `projectKL.py` and `meshDS.py` code files."
   ]
  },
  {
   "cell_type": "markdown",
   "metadata": {},
   "source": [
    "First we choose a covariance function for the representation of the permeability fields. Let the Covariance function between two points $u,v\\in\\Omega:=[0,1]\\times[0,1]$ for this example be exponential:\n",
    "\n",
    "\\begin{align}\n",
    "C(u,v)&=c\\cdot\\exp\\left(-\\frac{\\left|u_x-v_x\\right|}{\\gamma_x}+-\\frac{\\left|u_y-v_y\\right|}{\\gamma_y}\\right)\n",
    "\\end{align}\n",
    "\n",
    "with $c=1$, $\\gamma_x=3$ and $\\gamma_y=2$.\n"
   ]
  },
  {
   "cell_type": "code",
   "execution_count": 4,
   "metadata": {
    "ExecuteTime": {
     "end_time": "2019-10-09T17:58:51.551555Z",
     "start_time": "2019-10-09T17:58:51.536070Z"
    }
   },
   "outputs": [],
   "source": [
    "# Create the covariance expression to project on the mesh.\n",
    "etaX = 3.0\n",
    "etaY = 2.0\n",
    "C = 1\n",
    "\n",
    "# Pick your favorite covariance. Popular choices are Gaussian (of course),\n",
    "# Exponential, triangular (has finite support which is nice). Check out\n",
    "# Ghanem and Spanos' book for more classical options. \n",
    "\n",
    "# Here we use an exponential covariance\n",
    "\n",
    "class expCov(fn.UserExpression):\n",
    "    def __init__(self, ex, ey, C, **kwargs):\n",
    "        self.ex = ex\n",
    "        self.ey = ey\n",
    "        self.C = C\n",
    "        super().__init__(**kwargs)\n",
    "    def eval(self, v, x):\n",
    "        v[0] = self.C*fn.exp(-np.abs(x[0]-x[1])/self.ex - np.abs(x[2]-x[3])/self.ey)\n",
    "        return v\n",
    "    def value_shape(self):\n",
    "        return ()\n",
    "\n",
    "# A Gaussian Covariance\n",
    "# cov = fn.Expression(\"C*exp(-((x[0]-x[1]))*((x[0]-x[1]))/ex - ((x[2]-x[3]))*((x[2]-x[3]))/ey)\",\n",
    "#                     ex=etaX, ey=etaY, C=C, degree=2)\n",
    "# An Exponential Covariance\n",
    "cov = expCov(ex=etaX, ey=etaY, C=C, degree=1)\n"
   ]
  },
  {
   "cell_type": "markdown",
   "metadata": {},
   "source": [
    "## Compute Full KL Expansion on Fine Mesh\n",
    "\n",
    "This section computes the KL expansion eigenfunctions and eigenvalues on a fine 50x50 mesh with 100 terms. It takes a long time to run (around 3~ish hours)"
   ]
  },
  {
   "cell_type": "code",
   "execution_count": null,
   "metadata": {},
   "outputs": [],
   "source": [
    "# # number of KL expansion terms.\n",
    "# numKL = 100\n",
    "\n",
    "# # Step 1: Set up the Mesh and Function Space\n",
    "\n",
    "# # mesh = fn.Mesh(\"Lshaped.xml\")\n",
    "# mesh = fn.RectangleMesh(fn.Point(0,0),fn.Point(1,1),50,50)\n",
    "\n",
    "# # Plot the mesh for visual check\n",
    "# fn.plot(mesh)\n",
    "\n",
    "# # initialize the mesh to generate connectivity\n",
    "# mesh.init()\n",
    "\n",
    "# # Random field is projected on the space of Hat functions in the mesh \n",
    "# V = fn.FunctionSpace(mesh, \"CG\", 1)\n",
    "\n",
    "# V_adj = fn.FunctionSpace(mesh, \"CG\", 2)"
   ]
  },
  {
   "cell_type": "code",
   "execution_count": null,
   "metadata": {},
   "outputs": [],
   "source": [
    "# # Steps 2 and 3: Project covariance onto the mesh and get the eigenfunctions\n",
    "\n",
    "# # Initialize the projectKL object with the mesh\n",
    "# Lmesh = projectKL(mesh)\n",
    "\n",
    "# # Solve the discrete covariance relation on the mesh\n",
    "# Lmesh.projectCovToMesh(numKL,cov)\n",
    "\n",
    "# # Get the eigenfunctions and eigenvalues\n",
    "# eigen_func = Lmesh.eigen_funcs\n",
    "# eigen_val = Lmesh.eigen_vals\n",
    "\n",
    "# print('eigen_vals')\n",
    "# print(eigen_val)\n",
    "# print(eigen_val.sum())"
   ]
  },
  {
   "cell_type": "code",
   "execution_count": null,
   "metadata": {},
   "outputs": [],
   "source": [
    "# # save the eigenvalues and eigenfunctions\n",
    "# eigen_func_mat = np.zeros(\n",
    "#     (numKL, Lmesh.eigen_funcs[0].vector().vec().array.size))\n",
    "\n",
    "# for i in range(0, numKL):\n",
    "#     eigen_func_mat[i, :] = Lmesh.eigen_funcs[i].vector().vec().array\n",
    "\n",
    "    \n",
    "# sio.savemat(\"KL_expansion\",{'eigen_val':eigen_val,'eigen_func':eigen_func_mat})"
   ]
  },
  {
   "cell_type": "markdown",
   "metadata": {},
   "source": [
    "## Compute KL Expansion for Coarse Mesh\n",
    "\n",
    "Computes the KL Expansion eigenfunctions and eigenvalues on a coarse mesh (10x10) and 100 terms. This does not take too long."
   ]
  },
  {
   "cell_type": "code",
   "execution_count": 3,
   "metadata": {
    "ExecuteTime": {
     "end_time": "2019-10-09T17:57:40.711976Z",
     "start_time": "2019-10-09T17:57:38.502658Z"
    }
   },
   "outputs": [
    {
     "name": "stdout",
     "output_type": "stream",
     "text": [
      "Calling FFC just-in-time (JIT) compiler, this may take some time.\n",
      "Calling FFC just-in-time (JIT) compiler, this may take some time.\n"
     ]
    },
    {
     "data": {
      "image/png": "[encoded data removed]",
      "text/plain": [
       "<Figure size 432x288 with 1 Axes>"
      ]
     },
     "metadata": {
      "needs_background": "light"
     },
     "output_type": "display_data"
    }
   ],
   "source": [
    "# number of KL expansion terms.\n",
    "numKL = 100\n",
    "\n",
    "# Step 1: Set up the Mesh and Function Space\n",
    "\n",
    "# mesh = fn.Mesh(\"Lshaped.xml\")\n",
    "mesh = fn.RectangleMesh(fn.Point(0,0),fn.Point(1,1),10,10)\n",
    "\n",
    "# Plot the mesh for visual check\n",
    "fn.plot(mesh)\n",
    "\n",
    "# initialize the mesh to generate connectivity\n",
    "mesh.init()\n",
    "\n",
    "# Random field is projected on the space of Hat functions in the mesh \n",
    "V = fn.FunctionSpace(mesh, \"CG\", 1)\n",
    "\n",
    "V_adj = fn.FunctionSpace(mesh, \"CG\", 2)"
   ]
  },
  {
   "cell_type": "code",
   "execution_count": 5,
   "metadata": {
    "ExecuteTime": {
     "end_time": "2019-10-09T17:59:17.998069Z",
     "start_time": "2019-10-09T17:59:10.825762Z"
    }
   },
   "outputs": [
    {
     "name": "stdout",
     "output_type": "stream",
     "text": [
      "---------------------------\n",
      "---------------------------\n",
      " Building Covariance Matrix\n",
      "---------------------------\n",
      "---------------------------\n",
      "---------------------------\n",
      "---------------------------\n",
      " Finished Covariance Matrix\n",
      "---------------------------\n",
      "---------------------------\n",
      "Calling FFC just-in-time (JIT) compiler, this may take some time.\n",
      "Calling FFC just-in-time (JIT) compiler, this may take some time.\n",
      "Calling FFC just-in-time (JIT) compiler, this may take some time.\n",
      "Calling FFC just-in-time (JIT) compiler, this may take some time.\n",
      "---------------------------\n",
      "---------------------------\n",
      " Building Mass Matrix \n",
      "---------------------------\n",
      "---------------------------\n",
      "---------------------------\n",
      "---------------------------\n",
      " Finished Mass Matrix \n",
      "---------------------------\n",
      "---------------------------\n",
      "Calling FFC just-in-time (JIT) compiler, this may take some time.\n",
      "eigen_vals\n",
      "[7.67277403e-01 7.46568858e-02 5.04264852e-02 2.13345916e-02\n",
      " 1.37699949e-02 9.60280891e-03 6.13450142e-03 5.29809432e-03\n",
      " 4.90526883e-03 3.36917578e-03 3.23068895e-03 2.05313036e-03\n",
      " 2.05016694e-03 1.40908045e-03 1.33541782e-03 1.30112492e-03\n",
      " 1.28354717e-03 8.15924027e-04 7.49934500e-04 6.31980781e-04\n",
      " 5.98368298e-04 4.74219354e-04 3.97420315e-04 3.82193861e-04\n",
      " 3.48173847e-04 3.27883015e-04 2.52813906e-04 2.52172774e-04\n",
      " 2.12927351e-04 2.01033982e-04 1.76670712e-04 1.66886448e-04\n",
      " 1.59574074e-04 1.35385967e-04 1.26444991e-04 9.62702908e-05\n",
      " 9.38983014e-05 8.59228072e-05 8.16155794e-05 7.61582587e-05\n",
      " 6.00832520e-05 5.79071739e-05 5.19451202e-05 4.82078151e-05\n",
      " 4.41106348e-05 3.95307396e-05 3.78169409e-05 3.65353621e-05\n",
      " 3.40075849e-05 3.21428349e-05 2.89206026e-05 2.74351506e-05\n",
      " 2.61878929e-05 2.50968203e-05 2.44018107e-05 2.32022674e-05\n",
      " 2.12212713e-05 1.73697850e-05 1.62815738e-05 1.59566520e-05\n",
      " 1.50330323e-05 1.48074140e-05 1.40124218e-05 1.36114181e-05\n",
      " 1.28923022e-05 1.15845253e-05 1.13938029e-05 1.00840015e-05\n",
      " 9.66420495e-06 9.27614272e-06 7.97225222e-06 7.95948536e-06\n",
      " 7.40858596e-06 6.73019839e-06 6.58017842e-06 6.44175392e-06\n",
      " 6.44037619e-06 5.90908544e-06 5.58428659e-06 5.44918589e-06\n",
      " 5.11113707e-06 4.64823304e-06 4.61473425e-06 4.47593714e-06\n",
      " 4.14630595e-06 3.74716748e-06 3.44041747e-06 3.42252846e-06\n",
      " 3.22055469e-06 3.12350977e-06 2.98425275e-06 2.62128225e-06\n",
      " 2.54095065e-06 2.33554323e-06 2.10091244e-06 2.02482493e-06\n",
      " 1.97960669e-06 1.68733892e-06 1.67475012e-06 1.41771290e-06]\n",
      "0.9772007535090427\n"
     ]
    }
   ],
   "source": [
    "# Steps 2 and 3: Project covariance onto the mesh and get the eigenfunctions\n",
    "\n",
    "# Initialize the projectKL object with the mesh\n",
    "Lmesh = projectKL(mesh)\n",
    "\n",
    "\n",
    "# Solve the discrete covariance relation on the mesh\n",
    "Lmesh.projectCovToMesh(numKL,cov)\n",
    "\n",
    "# Get the eigenfunctions and eigenvalues\n",
    "eigen_func = Lmesh.eigen_funcs\n",
    "eigen_val = Lmesh.eigen_vals\n",
    "\n",
    "print('eigen_vals')\n",
    "print(eigen_val)\n",
    "print(eigen_val.sum())"
   ]
  },
  {
   "cell_type": "code",
   "execution_count": 6,
   "metadata": {
    "ExecuteTime": {
     "end_time": "2019-10-09T17:59:25.343168Z",
     "start_time": "2019-10-09T17:59:25.328938Z"
    }
   },
   "outputs": [],
   "source": [
    "# save the eigenvalues and eigenfunctions\n",
    "eigen_func_mat = np.zeros(\n",
    "    (numKL, Lmesh.eigen_funcs[0].vector().vec().array.size))\n",
    "\n",
    "for i in range(0, numKL):\n",
    "    eigen_func_mat[i, :] = Lmesh.eigen_funcs[i].vector().vec().array\n",
    "\n",
    "    \n",
    "sio.savemat(\"KL_expansion_coarse\",{'eigen_val':eigen_val,'eigen_func':eigen_func_mat})"
   ]
  },
  {
   "cell_type": "markdown",
   "metadata": {},
   "source": [
    "# Summary\n",
    "\n",
    "Now that the eigenfunctions and eigenvalues have been computed, we can represent the permeability field. See the [next notebook](Represent_Solve_PDE.ipynb) where we represent the permeability with the KL expansion (eigenvalues and eigenvectors computed here) and solve the PDE."
   ]
  },
  {
   "cell_type": "code",
   "execution_count": null,
   "metadata": {},
   "outputs": [],
   "source": []
  }
 ],
 "metadata": {
  "kernelspec": {
   "display_name": "Python 3",
   "language": "python",
   "name": "python3"
  },
  "language_info": {
   "codemirror_mode": {
    "name": "ipython",
    "version": 3
   },
   "file_extension": ".py",
   "mimetype": "text/x-python",
   "name": "python",
   "nbconvert_exporter": "python",
   "pygments_lexer": "ipython3",
   "version": "3.8.5"
  },
  "latex_envs": {
   "LaTeX_envs_menu_present": true,
   "autoclose": false,
   "autocomplete": true,
   "bibliofile": "biblio.bib",
   "cite_by": "apalike",
   "current_citInitial": 1,
   "eqLabelWithNumbers": true,
   "eqNumInitial": 1,
   "hotkeys": {
    "equation": "Ctrl-E",
    "itemize": "Ctrl-I"
   },
   "labels_anchors": false,
   "latex_user_defs": false,
   "report_style_numbering": false,
   "user_envs_cfg": false
  },
  "toc": {
   "base_numbering": 1,
   "nav_menu": {},
   "number_sections": true,
   "sideBar": true,
   "skip_h1_title": false,
   "title_cell": "Table of Contents",
   "title_sidebar": "Contents",
   "toc_cell": false,
   "toc_position": {},
   "toc_section_display": true,
   "toc_window_display": false
  },
  "varInspector": {
   "cols": {
    "lenName": 16,
    "lenType": 16,
    "lenVar": 40
   },
   "kernels_config": {
    "python": {
     "delete_cmd_postfix": "",
     "delete_cmd_prefix": "del ",
     "library": "var_list.py",
     "varRefreshCmd": "print(var_dic_list())"
    },
    "r": {
     "delete_cmd_postfix": ") ",
     "delete_cmd_prefix": "rm(",
     "library": "var_list.r",
     "varRefreshCmd": "cat(var_dic_list()) "
    }
   },
   "types_to_exclude": [
    "module",
    "function",
    "builtin_function_or_method",
    "instance",
    "_Feature"
   ],
   "window_display": false
  }
 },
 "nbformat": 4,
 "nbformat_minor": 2
}
