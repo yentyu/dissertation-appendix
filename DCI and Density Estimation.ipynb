{
 "cells": [
  {
   "cell_type": "code",
   "execution_count": null,
   "metadata": {},
   "outputs": [],
   "source": [
    "# Imports necessary Packages\n",
    "import numpy as np\n",
    "import scipy.stats as sps\n",
    "import pandas as pd\n",
    "\n",
    "# Specific Plotting Packages\n",
    "import matplotlib.pyplot as plt\n",
    "from matplotlib import cm\n",
    "from matplotlib import patches\n",
    "from mpl_toolkits.mplot3d import Axes3D\n",
    "\n",
    "# sklearn\n",
    "from sklearn.preprocessing import normalize\n",
    "from sklearn.mixture import BayesianGaussianMixture\n",
    "\n",
    "# other specific packages\n",
    "from scipy.integrate import quad\n",
    "from scipy.special import gamma as gamma_func\n",
    "from scipy.signal import find_peaks\n",
    "import warnings\n",
    "\n",
    "# Import Custom Packages\n",
    "from distr_tools import mixture_dist\n",
    "import supplemental_funcs as sf\n",
    "import example_master as EM # sets values for example\n",
    "\n",
    "# to show in notebook\n",
    "%matplotlib inline"
   ]
  },
  {
   "cell_type": "code",
   "execution_count": null,
   "metadata": {},
   "outputs": [],
   "source": [
    "from importlib import reload"
   ]
  },
  {
   "cell_type": "code",
   "execution_count": null,
   "metadata": {},
   "outputs": [],
   "source": [
    "plt.rcParams.update({'font.size': 14})"
   ]
  },
  {
   "cell_type": "code",
   "execution_count": null,
   "metadata": {},
   "outputs": [],
   "source": [
    "# fig_save_dictionary { 'filename' : figname }\n",
    "fig_all_master = {}"
   ]
  },
  {
   "cell_type": "markdown",
   "metadata": {},
   "source": [
    "# Example: DCI with Nonlinear 1D to 1D\n",
    "\n",
    "Here we use the tripeak density as the observed distribution for the nonlinear model shown below. We then work to use DCI to find the corresponding distribution in the parameter sapce.\n",
    "\n",
    "* $Q(\\lambda) = \\frac{1}{4}(\\lambda+1)(\\lambda-4)(\\lambda-7)$\n",
    "\n",
    "* Domain of parameter space: $\\Lambda = [0,10]$\n",
    "\n",
    "* Domain of observed distribution: $\\mathcal{D}=Q(\\Lambda) = [-3.704,49.5]$"
   ]
  },
  {
   "cell_type": "code",
   "execution_count": null,
   "metadata": {},
   "outputs": [],
   "source": [
    "# load Qmap from example masters file\n",
    "Q_map = EM.Q_nonlinear_1D_to_1D"
   ]
  },
  {
   "cell_type": "code",
   "execution_count": null,
   "metadata": {},
   "outputs": [],
   "source": [
    "# initial domain of lambda\n",
    "lamx = EM.tri_peak_lamx\n",
    "q_dom = Q_map(lamx)\n",
    "\n",
    "plt.plot(lamx,q_dom)\n",
    "plt.xlabel('$\\lambda$')\n",
    "plt.ylabel('$q$')\n",
    "plt.axhline(20,color='r')"
   ]
  },
  {
   "cell_type": "markdown",
   "metadata": {},
   "source": [
    "Here we show the observed:\n",
    "\n",
    "\\begin{align}\n",
    "\\pi_{obs}(q) \\sim Tripeakdens(f_1,f_2,f_3)\n",
    "\\end{align}\n",
    "\n",
    "Where the tripeak density is defined in [this notebook](Review%20of%20Density%20Estimation.ipynb).\n",
    "\n",
    "This density is shown below."
   ]
  },
  {
   "cell_type": "code",
   "execution_count": null,
   "metadata": {},
   "outputs": [],
   "source": [
    "# load sample, dist, and support of obs\n",
    "qx = EM.tri_peak_qx\n",
    "obs_dist = EM.tri_peak_mixture\n",
    "q_sample = EM.tri_peak_sample\n",
    "plt.plot(qx,obs_dist.pdf(qx))\n",
    "plt.hist(q_sample,edgecolor='k',density=True,color='xkcd:sky blue')"
   ]
  },
  {
   "cell_type": "markdown",
   "metadata": {},
   "source": [
    "Initial Distribution:\n",
    "\n",
    "$$\\pi_{init}(\\lambda)\\sim 10\\cdot(Beta(a,b))$$\n",
    "\n",
    "where the Beta distribution has been scaled to the domain of $\\Lambda=[0,10]$."
   ]
  },
  {
   "cell_type": "code",
   "execution_count": null,
   "metadata": {},
   "outputs": [],
   "source": [
    "# define intial distribution\n",
    "init_dist = sps.beta(a=1,b=1.5,scale=10)"
   ]
  },
  {
   "cell_type": "code",
   "execution_count": null,
   "metadata": {},
   "outputs": [],
   "source": [
    "plt.plot(lamx,init_dist.pdf(lamx))"
   ]
  },
  {
   "cell_type": "markdown",
   "metadata": {},
   "source": [
    "Compute the approximate predicted for a beta distribution using a GKDE."
   ]
  },
  {
   "cell_type": "code",
   "execution_count": null,
   "metadata": {},
   "outputs": [],
   "source": [
    "predict_sample = Q_map(init_dist.rvs(5000))\n",
    "predict_kde = sps.gaussian_kde(predict_sample)"
   ]
  },
  {
   "cell_type": "code",
   "execution_count": null,
   "metadata": {},
   "outputs": [],
   "source": [
    "plt.plot(q_dom,predict_kde(q_dom))\n",
    "plt.plot(q_dom,obs_dist.pdf(q_dom))"
   ]
  },
  {
   "cell_type": "code",
   "execution_count": null,
   "metadata": {},
   "outputs": [],
   "source": [
    "def check_nd_shape(lam,dim=1):\n",
    "    if len(lam.shape)==0:\n",
    "        vals = lam.reshape(1,1)\n",
    "    elif len(lam.shape)==1:\n",
    "        if dim==1:\n",
    "            vals = lam.reshape(lam.shape[0],1)\n",
    "        else:\n",
    "            vals = lam.reshape(1,lam.shape[0])\n",
    "    else:\n",
    "        vals = lam\n",
    "    return vals"
   ]
  },
  {
   "cell_type": "code",
   "execution_count": null,
   "metadata": {},
   "outputs": [],
   "source": [
    "class dci_update:\n",
    "    def __init__(self,init,pred,obs,Qmap):\n",
    "        self.init_dist = init\n",
    "        self.pred_dist = pred\n",
    "        self.obs_dist = obs\n",
    "        self.Q = Qmap\n",
    "        \n",
    "    def pdf(self,lam):\n",
    "        # specify vals to evaluate and get Q(lam)\n",
    "        lam_vals = check_nd_shape(lam)\n",
    "        lam_update = check_nd_shape(np.zeros(lam_vals.shape[0]))\n",
    "        q = self.Q(lam_vals)\n",
    "        \n",
    "        # compute pdfs\n",
    "        init_vals = check_nd_shape(sf.eval_pdf(lam_vals,self.init_dist))\n",
    "        pred_vals = check_nd_shape(sf.eval_pdf(q,self.pred_dist))\n",
    "        obs_vals = check_nd_shape(sf.eval_pdf(q,self.obs_dist))\n",
    "        \n",
    "        # predictability assumption\n",
    "        nonzeros = init_vals != 0\n",
    "        nonzero_denom = pred_vals > 1e-6*obs_vals \n",
    "        up_ind = np.logical_and(nonzeros,nonzero_denom)\n",
    "        \n",
    "        # return updated values\n",
    "        lam_update[up_ind] = init_vals[up_ind]*obs_vals[up_ind]/pred_vals[up_ind]\n",
    "        lam_update = np.squeeze(lam_update)\n",
    "        \n",
    "        return lam_update\n",
    "        \n",
    "    "
   ]
  },
  {
   "cell_type": "code",
   "execution_count": null,
   "metadata": {},
   "outputs": [],
   "source": [
    "# compute the exact update\n",
    "exact_update = dci_update(init_dist,predict_kde,obs_dist,Q_map)"
   ]
  },
  {
   "cell_type": "code",
   "execution_count": null,
   "metadata": {},
   "outputs": [],
   "source": [
    "plt.plot(lamx,init_dist.pdf(lamx),color='gray',alpha=0.7,ls='--')\n",
    "plt.plot(lamx,exact_update.pdf(lamx))\n"
   ]
  },
  {
   "cell_type": "markdown",
   "metadata": {},
   "source": [
    "### Exact Update and Observed Plot\n",
    "\n",
    "This shows the target observed density (in the data space) and the target update distribution used to generate the data (in the parameter space)."
   ]
  },
  {
   "cell_type": "code",
   "execution_count": null,
   "metadata": {},
   "outputs": [],
   "source": [
    "fig_exact_update, (axL,axD) = plt.subplots(1,2)\n",
    "fig_exact_update.set_figwidth(10)\n",
    "fig_exact_update.set_figheight(5)\n",
    "\n",
    "# parameter space\n",
    "axL.plot(lamx,init_dist.pdf(lamx),ls='--',color='gray',\n",
    "         alpha=0.7,label='Initial')\n",
    "axL.plot(lamx,exact_update.pdf(lamx),label='Update')\n",
    "\n",
    "\n",
    "# data space\n",
    "axD.plot(qx,predict_kde.pdf(qx),ls='--',color='gray',label='Predicted')\n",
    "axD.plot(qx,obs_dist.pdf(qx),label='Observed')\n",
    "\n",
    "# typical labels\n",
    "axL.legend()\n",
    "axL.set_title('Parameter Space $\\Lambda$')\n",
    "axL.set_xlabel('$\\lambda$')\n",
    "axD.legend()\n",
    "axD.set_title('Data Space $\\mathcal{D}$')\n",
    "axD.set_xlabel('$q$')\n",
    "\n",
    "# savefig\n",
    "this_fig_title = 'fig_exact_update.png'\n",
    "fig_all_master[this_fig_title] = fig_exact_update\n",
    "\n",
    "# save just this fig\n",
    "# fig_exact_update.savefig('../'+this_fig_title)"
   ]
  },
  {
   "cell_type": "markdown",
   "metadata": {},
   "source": [
    "# Update with Estimation of the Observed Distribution"
   ]
  },
  {
   "cell_type": "markdown",
   "metadata": {},
   "source": [
    "As seen in the figures below, the distribution of observations is generally skewed right. This means that the standard deviation across the whole data set will generally be pulled by the observations in the right tail.\n",
    "\n",
    "So instead of using the standard deviation of the data in Scott's rule $\\hat{\\sigma}n^{-1/5}$, we use half the inter-quartile-range as a smaller window size benchmark."
   ]
  },
  {
   "cell_type": "code",
   "execution_count": null,
   "metadata": {},
   "outputs": [],
   "source": [
    "N_list = EM.tri_peak_N_list\n",
    "for i,N in enumerate(N_list):\n",
    "    plt.boxplot(q_sample[0:N],positions=np.array([i]))"
   ]
  },
  {
   "cell_type": "code",
   "execution_count": null,
   "metadata": {},
   "outputs": [],
   "source": [
    "# example computations done with n=250\n",
    "this_q_sample = q_sample[0:N_list[3]]\n",
    "print(this_q_sample.shape)"
   ]
  },
  {
   "cell_type": "code",
   "execution_count": null,
   "metadata": {},
   "outputs": [],
   "source": [
    "fig_TPD_boxplots, (ax1,ax2) = plt.subplots(1,2)\n",
    "fig_TPD_boxplots.set_figwidth(8)\n",
    "\n",
    "# histogram of the data\n",
    "ax1.set_title('Histogram of Data')\n",
    "ax1.hist(this_q_sample,density=True,\n",
    "         edgecolor='k',color='xkcd:sky blue',alpha=0.8)\n",
    "ax1.set_xlabel('$q$')\n",
    "\n",
    "# boxplot\n",
    "ax2.boxplot(this_q_sample, vert=False)\n",
    "ax2.set_yticks([])\n",
    "ax2.set_xlabel('$q$')\n",
    "ax2.set_title('Boxplot of Data')\n",
    "\n",
    "# savefig\n",
    "this_fig_title = 'fig_TPD_data_analysis.png'\n",
    "fig_all_master[this_fig_title] = fig_TPD_boxplots\n",
    "\n",
    "# #save just this fig\n",
    "# fig_TPD_boxplots.savefig('../'+this_fig_title)"
   ]
  },
  {
   "cell_type": "markdown",
   "metadata": {},
   "source": [
    "## Using a GKDE\n",
    "\n",
    "Here we determine the Data-consistent update using a GKDE for the observed density."
   ]
  },
  {
   "cell_type": "code",
   "execution_count": null,
   "metadata": {},
   "outputs": [],
   "source": [
    "# compute approximate update using tripeak sample\n",
    "IQR_dev = sps.iqr(q_sample)/2\n",
    "h_special = IQR_dev*len(q_sample)**(-1/5)\n",
    "kde_factor = h_special/np.std(q_sample,ddof=1) # adjust for sps automatic multiplication\n",
    "obs_kde_approx = sps.gaussian_kde(q_sample)\n",
    "update_kde_approx = dci_update(init_dist,predict_kde,obs_kde_approx,Q_map)"
   ]
  },
  {
   "cell_type": "code",
   "execution_count": null,
   "metadata": {},
   "outputs": [],
   "source": [
    "fig_kde_approx, (axL,axD) = plt.subplots(1,2)\n",
    "fig_kde_approx.set_figwidth(10)\n",
    "\n",
    "# parameter space\n",
    "axL.plot(lamx,exact_update.pdf(lamx),label='Exact Update',linewidth=2,alpha=0.75)\n",
    "axL.plot(lamx,update_kde_approx.pdf(lamx),label='Approx Update',linewidth=2)\n",
    "\n",
    "peak_ind,prop = find_peaks(exact_update.pdf(lamx))\n",
    "axL.vlines(lamx[peak_ind][2:4],ymin=0,ymax=exact_update.pdf(lamx)[peak_ind][2:4],\n",
    "           color='xkcd:sky blue',ls='--',alpha=0.6)\n",
    "\n",
    "# data space\n",
    "peak_ind,prop = find_peaks(obs_dist.pdf(qx))\n",
    "axD.plot(qx,obs_dist.pdf(qx),label='Exact Observed')\n",
    "axD.plot(qx,obs_kde_approx.pdf(qx), label='GKDE')\n",
    "axD.vlines(qx[peak_ind[0]],ymin=0,ymax=obs_dist.pdf(qx[peak_ind[0]]),ls='--',\n",
    "          color='xkcd:sky blue',alpha=0.75)\n",
    "\n",
    "# typical labels\n",
    "axL.legend()\n",
    "axL.set_title('Parameter Space $\\Lambda$')\n",
    "axL.set_xlabel('$\\lambda$')\n",
    "axD.legend()\n",
    "axD.set_title('Data Space $\\mathcal{D}$')\n",
    "axD.set_xlabel('$q$')\n",
    "\n",
    "\n",
    "# savefig\n",
    "this_fig_title = 'fig_TPD_KDE_update.png'\n",
    "fig_all_master[this_fig_title] = fig_kde_approx\n",
    "\n",
    "# # save just this fig\n",
    "# fig_kde_approx.savefig('../'+this_fig_title)"
   ]
  },
  {
   "cell_type": "code",
   "execution_count": null,
   "metadata": {},
   "outputs": [],
   "source": [
    "qint_bounds = (-5,25)\n",
    "lamint_bounds = (0,10)\n",
    "print('Dspace: Update Error')\n",
    "print('L2: ', sf.L2_err_1D(obs_dist,obs_kde_approx,\n",
    "                           qint_bounds[0],qint_bounds[1]))\n",
    "print('L1: ', sf.L1_err_1D(obs_dist,obs_kde_approx,\n",
    "                           qint_bounds[0],qint_bounds[1]))\n",
    "print()\n",
    "print('Pspace: Update Error')\n",
    "print('L2: ', sf.L2_err_1D(exact_update,update_kde_approx,\n",
    "                           lamint_bounds[0],lamint_bounds[1]))\n",
    "print('L1: ', sf.L1_err_1D(exact_update,update_kde_approx,\n",
    "                           lamint_bounds[0],lamint_bounds[1]))"
   ]
  },
  {
   "cell_type": "code",
   "execution_count": null,
   "metadata": {},
   "outputs": [],
   "source": [
    "# approximate C factor\n",
    "0.016/0.009"
   ]
  },
  {
   "cell_type": "markdown",
   "metadata": {},
   "source": [
    "### Plot the MISE\n",
    "\n",
    "Here we make convergence plots of the mean-integrated squared error (MISE) for a GKDE using pre-computed boot-strapped GKDE."
   ]
  },
  {
   "cell_type": "code",
   "execution_count": null,
   "metadata": {},
   "outputs": [],
   "source": [
    "# try loading expensive kde error computations from\n",
    "# saved file\n",
    "try:\n",
    "    update_kde_error = np.load(EM.tri_peak_update_MISE_name+'.npz',allow_pickle=True)\n",
    "    kde_error_data = np.load(EM.tri_peak_MISE_name+'.npz',allow_pickle=True)\n",
    "except FileNotFoundError as err:\n",
    "    print('File not found. Did you run the notebook '+\n",
    "          'with expensive computations?')\n",
    "    raise err\n",
    "    \n",
    "# check what keys are in the file\n",
    "print(update_kde_error.files)\n",
    "print(kde_error_data.files)\n",
    "this_B = kde_error_data['hIQRD_MISE'].shape[0]"
   ]
  },
  {
   "cell_type": "code",
   "execution_count": null,
   "metadata": {},
   "outputs": [],
   "source": [
    "# compute the MISE using linear regression\n",
    "MISE_lines = {}\n",
    "these_kde_keys = ['updateMISE_L1', 'updateMISE_L2','hIQRD_MISE']\n",
    "for label in these_kde_keys:\n",
    "    if label=='hIQRD_MISE':\n",
    "        # take logarithms to put on log-log-scale\n",
    "        x_n = np.log(N_list*this_B) # to agree with the dimesnions of data\n",
    "        y_err = np.log(kde_error_data[label].reshape(-1,))\n",
    "        this_MISE_line = np.polynomial.polynomial.Polynomial.fit(x_n,y_err,1)\n",
    "        MISE_lines[label] = this_MISE_line\n",
    "    else:\n",
    "        # take logarithms to put on log-log-scale\n",
    "        x_n = np.log(N_list*this_B) # to agree with the dimesnions of data\n",
    "        y_err = np.log(update_kde_error[label].reshape(-1,))\n",
    "        this_MISE_line = np.polynomial.polynomial.Polynomial.fit(x_n,y_err,1)\n",
    "        MISE_lines[label] = this_MISE_line\n"
   ]
  },
  {
   "cell_type": "code",
   "execution_count": null,
   "metadata": {},
   "outputs": [],
   "source": [
    "# Plot the KDEs and ISE\n",
    "fig_update_kde_converge, (ax1,ax2) = plt.subplots(1,2,sharey=True)\n",
    "fig_update_kde_converge.set_figwidth(12)\n",
    "\n",
    "line_labels = [\"L1\", \"L2\"]\n",
    "\n",
    "for i,label in enumerate(these_kde_keys):\n",
    "    \n",
    "    if label == 'hIQRD_MISE':\n",
    "        this_err = kde_error_data[label]\n",
    "        \n",
    "        # take logarithms to put on log-log-scale\n",
    "        x_n = np.log(N_list) # to agree with the dimesnions of data\n",
    "        y_n = MISE_lines[label](x_n)\n",
    "        y_var = np.std(this_err,ddof=1,axis=0)\n",
    "\n",
    "        midpoint = (x_n[-1]+x_n[0])/2\n",
    "        y_label = MISE_lines[label](midpoint)\n",
    "        y_label += 0.5 if i ==0 else -0.5\n",
    "        \n",
    "        ax2.annotate(\"$m={1:0.2}$, $b={0:0.2}$\".format(*MISE_lines[label].coef),\n",
    "                     xy = (midpoint,y_label), ha='right')\n",
    "\n",
    "        ax2.errorbar(x_n,y_n, yerr = y_var,marker='o',\n",
    "                    barsabove=True,capsize=4,label=line_labels[1])\n",
    "        \n",
    "        \n",
    "    elif label=='updateMISE_L1':\n",
    "        this_err = update_kde_error[label]\n",
    "        \n",
    "        # take logarithms to put on log-log-scale\n",
    "        x_n = np.log(N_list) # to agree with the dimesnions of data\n",
    "        y_n = MISE_lines[label](x_n)\n",
    "        y_var = np.std(this_err,ddof=1,axis=0)\n",
    "\n",
    "        midpoint = (x_n[-1]+x_n[0])/2\n",
    "        y_label = MISE_lines[label](midpoint)\n",
    "        y_label += -0.25\n",
    "        \n",
    "        # plot L1 error\n",
    "        ax1.annotate(\"$m={1:0.2}$, $b={0:0.2}$\".format(*MISE_lines[label].coef),\n",
    "                     xy = (midpoint,y_label), ha='right',va='top')\n",
    "        ax1.errorbar(x_n,y_n, yerr = y_var,marker='o',\n",
    "                    barsabove=True,capsize=4,label=line_labels[0])\n",
    "        \n",
    "        # plot L1 error\n",
    "        ax2.annotate(\"$m={1:0.2}$, $b={0:0.2}$\".format(*MISE_lines[label].coef),\n",
    "                     xy = (midpoint,y_label), ha='right',va='top')\n",
    "        ax2.errorbar(x_n,y_n, yerr = y_var,marker='o',\n",
    "                    barsabove=True,capsize=4,label=line_labels[0])\n",
    "        \n",
    "    else:        \n",
    "        this_err = update_kde_error[label]\n",
    "        \n",
    "        # take logarithms to put on log-log-scale\n",
    "        x_n = np.log(N_list) # to agree with the dimesnions of data\n",
    "        y_n = MISE_lines[label](x_n)\n",
    "        y_var = np.std(this_err,ddof=1,axis=0)\n",
    "\n",
    "        midpoint = (x_n[-1]+x_n[0])/2\n",
    "        y_label = MISE_lines[label](midpoint)\n",
    "        y_label += 0.5 if i ==0 else -0.5\n",
    "        \n",
    "        # plot L1 error\n",
    "        ax1.annotate(\"$m={1:0.2}$, $b={0:0.2}$\".format(*MISE_lines[label].coef),\n",
    "                     xy = (midpoint,y_label), ha='right')\n",
    "        ax1.errorbar(x_n,y_n, yerr = y_var,marker='o',\n",
    "                    barsabove=True,capsize=4,label=line_labels[1])\n",
    "        \n",
    "# labels and stuff\n",
    "ax1.legend(loc='center right')\n",
    "ax2.legend()\n",
    "ax1.set_title('Convergence Rate in $\\Lambda$')\n",
    "ax1.set_ylabel('Log Error')\n",
    "ax2.set_title('Convergence Rate in $\\mathcal{D}$')\n",
    "ax2.set_xlabel('Log Sample Size $n$')\n",
    "ax2.set_ylabel('Log Error')\n",
    "\n",
    "# savefig\n",
    "this_fig_title = 'fig_TP_kde_converge.png'\n",
    "fig_all_master[this_fig_title] = fig_update_kde_converge\n",
    "\n",
    "# # save just this fig\n",
    "# fig_update_kde_converge.savefig('../'+this_fig_title)"
   ]
  },
  {
   "cell_type": "markdown",
   "metadata": {},
   "source": [
    "## CI with GKDE\n",
    "\n",
    "Here we construct a confidence interval for the GKDE in the data space. We use this to determine the CI for the update in the parameter space."
   ]
  },
  {
   "cell_type": "code",
   "execution_count": null,
   "metadata": {},
   "outputs": [],
   "source": [
    "# try loading expensive kde error computations from\n",
    "# saved file\n",
    "try:\n",
    "    kde_CI_data = np.load(EM.tri_peak_CI_name+'.npz',allow_pickle=True)\n",
    "except FileNotFoundError as err:\n",
    "    print('File not found. Did you run the notebook '+\n",
    "          'with expensive computations?')\n",
    "    raise err\n",
    "    \n",
    "# check what keys are in the file\n",
    "print(kde_CI_data.files)"
   ]
  },
  {
   "cell_type": "code",
   "execution_count": null,
   "metadata": {},
   "outputs": [],
   "source": [
    "ex_dist = 3\n",
    "this_h = h_special # h_IQRD\n",
    "RK = 1/(2*np.sqrt(np.pi))\n",
    "this_n = N_list[ex_dist]\n",
    "print('N, R(K), h: ', this_n,RK,this_h) # take values from earlier\n",
    "\n",
    "# CI value\n",
    "alphaCI = 0.05\n",
    "z_lower,z_upper = sps.norm.ppf(alphaCI/2),sps.norm.ppf(1-alphaCI/2)\n",
    "\n",
    "# the  kde values for this estimate\n",
    "this_kde_vals = obs_kde_approx(qx)\n",
    "this_update_vals = update_kde_approx.pdf(lamx)\n",
    "\n",
    "# compute the confidence intervals plug-in and bootstrap\n",
    "\n",
    "pointwiseCI = {'Plugin': {},'Bootstrap': {}}\n",
    "for CI in pointwiseCI:\n",
    "    if CI=='Plugin':\n",
    "        error_term = z_lower*np.sqrt(RK*this_kde_vals/(this_n*this_h**2))\n",
    "        qy_lower = this_kde_vals - error_term\n",
    "        qy_upper = this_kde_vals + error_term\n",
    "        \n",
    "        error_term = z_lower*np.sqrt(RK*this_update_vals/(this_n*this_h**2))\n",
    "        lamy_lower = this_update_vals - error_term\n",
    "        lamy_upper = this_update_vals + error_term\n",
    "        \n",
    "    else:\n",
    "        this_q = kde_CI_data['hIQRDCI']\n",
    "        deviations = np.abs(this_q - this_kde_vals)\n",
    "        dev_bound = np.quantile(deviations,q=1-alphaCI,axis=0) \n",
    "        qy_lower = this_kde_vals-dev_bound\n",
    "        qy_upper = this_kde_vals+dev_bound\n",
    "        \n",
    "        this_lam = kde_CI_data['updateCI']\n",
    "        deviations = np.abs(this_lam - this_update_vals)\n",
    "        dev_bound = np.quantile(deviations,q=1-alphaCI,axis=0) \n",
    "        lamy_lower = this_update_vals-dev_bound\n",
    "        lamy_upper = this_update_vals+dev_bound\n",
    "    \n",
    "    # save the quantiles\n",
    "    pointwiseCI[CI]['qy'] = (qy_lower,qy_upper)\n",
    "    pointwiseCI[CI]['lamy'] = (lamy_lower,lamy_upper)\n"
   ]
  },
  {
   "cell_type": "code",
   "execution_count": null,
   "metadata": {},
   "outputs": [],
   "source": [
    "# Plot the KDEs and ISE\n",
    "fig_update_KDE_confidence, axes = plt.subplots(2,2)\n",
    "fig_update_KDE_confidence.set_figwidth(12)\n",
    "fig_update_KDE_confidence.set_figheight(8)\n",
    "\n",
    "this_x = {'qy': qx, 'lamy': lamx}\n",
    "spacename = {'qy': '$\\mathcal{D}$', 'lamy': '$\\Lambda$'}\n",
    "mid_pdf = {'qy': this_kde_vals, 'lamy': this_update_vals}\n",
    "target_pdf = {'qy': obs_dist.pdf(qx), 'lamy': exact_update.pdf(lamx)}\n",
    "for i,ax_row in enumerate(axes):\n",
    "    label = 'Plugin' if i == 0 else 'Bootstrap'\n",
    "    for j, ax in enumerate(ax_row):\n",
    "        key = 'qy' if j==1 else 'lamy'\n",
    "        ax.plot(this_x[key],target_pdf[key],color='xkcd:black',ls='--',alpha=0.7,\n",
    "                 label='Target')\n",
    "        ax.plot(this_x[key],mid_pdf[key],label='GKDE',color='C1')\n",
    "\n",
    "        \n",
    "\n",
    "        y_lower,y_upper = pointwiseCI[label][key]\n",
    "        ax.fill_between(this_x[key],y_lower,y_upper,edgecolor='xkcd:red',\n",
    "                        facecolor='xkcd:yellow orange',alpha=0.5,zorder=2,\n",
    "                        label='{:0.0f}% CI'.format(100*(1-alphaCI)))\n",
    "\n",
    "        ax.set_title('{}: {}% CI with {}'.format(spacename[key],\n",
    "                                                 int(100*(1-alphaCI)),\n",
    "                                                label))\n",
    "        ax.legend()\n",
    "\n",
    "# savefig\n",
    "this_fig_title = 'fig_TP_update_kde_CI.png'\n",
    "fig_all_master[this_fig_title] =fig_update_KDE_confidence\n",
    "\n",
    "# # save just this fig\n",
    "# fig_update_KDE_confidence.savefig('../'+this_fig_title)"
   ]
  },
  {
   "cell_type": "markdown",
   "metadata": {},
   "source": [
    "## DPMM\n",
    "\n",
    "In this section we use a Dirichlet Process Mixture Model (DPMM) to fit the tripeak density.\n",
    "\n",
    "Note that we choose $\\psi$ using the IQR for an appropriate window length (rather than using the default covariance of the observed density) because the distribution is skewed right (similar to our consideration for choosing the bandwidth $h$).\n"
   ]
  },
  {
   "cell_type": "code",
   "execution_count": null,
   "metadata": {},
   "outputs": [],
   "source": [
    "arg_dict = EM.tri_peak_BGMM_arg_dict\n",
    "this_K = 30\n",
    "\n",
    "arg_prior_dict_DPMM = {'n_components': this_K,\n",
    "                'weight_concentration_prior_type': 'dirichlet_process',\n",
    "                'weight_concentration_prior': 1,\n",
    "                'mean_prior': np.atleast_1d(1),\n",
    "                'mean_precision_prior': 1, # kappa\n",
    "                'degrees_of_freedom_prior': 1, # nu\n",
    "                'covariance_prior': np.atleast_2d(np.round(IQR_dev**2)) # psi\n",
    "                   }\n",
    "# print(h_special)\n",
    "print(arg_prior_dict_DPMM)"
   ]
  },
  {
   "cell_type": "code",
   "execution_count": null,
   "metadata": {},
   "outputs": [],
   "source": [
    "# define the model\n",
    "obs_DPMM_approx = BayesianGaussianMixture(**arg_prior_dict_DPMM,**arg_dict)"
   ]
  },
  {
   "cell_type": "code",
   "execution_count": null,
   "metadata": {},
   "outputs": [],
   "source": [
    "# fit the model\n",
    "obs_DPMM_approx.fit(q_sample.reshape(-1,1))"
   ]
  },
  {
   "cell_type": "markdown",
   "metadata": {},
   "source": [
    "### Show the Update\n",
    "\n",
    "Compute the data-consistent update using the DPMM for the observed density."
   ]
  },
  {
   "cell_type": "code",
   "execution_count": null,
   "metadata": {},
   "outputs": [],
   "source": [
    "# define the update\n",
    "update_DPMM_approx = dci_update(init_dist,predict_kde,obs_DPMM_approx,Q_map)"
   ]
  },
  {
   "cell_type": "code",
   "execution_count": null,
   "metadata": {},
   "outputs": [],
   "source": [
    "fig_DPMM_approx, (axL,axD) = plt.subplots(1,2)\n",
    "fig_DPMM_approx.set_figwidth(12)\n",
    "fig_DPMM_approx.set_figheight(5)\n",
    "\n",
    "# parameter space\n",
    "axL.plot(lamx,exact_update.pdf(lamx),label='Exact Update',linewidth=2,alpha=0.75)\n",
    "axL.plot(lamx,sf.eval_pdf(lamx,update_DPMM_approx),label='Approx Update',linewidth=2)\n",
    "\n",
    "peak_ind,prop = find_peaks(exact_update.pdf(lamx))\n",
    "axL.vlines(lamx[peak_ind][2:4],ymin=0,ymax=exact_update.pdf(lamx)[peak_ind][2:4],\n",
    "           color='xkcd:sky blue',ls='--',alpha=0.6)\n",
    "\n",
    "# data space\n",
    "peak_ind,prop = find_peaks(obs_dist.pdf(qx))\n",
    "axD.plot(qx,obs_dist.pdf(qx),label='Exact Observed')\n",
    "axD.plot(qx,sf.eval_pdf(qx,obs_DPMM_approx), label='Exp. Posterior DPMM')\n",
    "axD.vlines(qx[peak_ind[0]],ymin=0,ymax=obs_dist.pdf(qx[peak_ind[0]]),ls='--',\n",
    "          color='xkcd:sky blue',alpha=0.75)\n",
    "\n",
    "# typical labels\n",
    "axL.legend()\n",
    "axL.set_title('Parameter Space $\\Lambda$')\n",
    "axL.set_xlabel('$\\lambda$')\n",
    "axD.legend()\n",
    "axD.set_title('Data Space $\\mathcal{D}$')\n",
    "axD.set_xlabel('$q$')\n",
    "\n",
    "\n",
    "# savefig\n",
    "this_fig_title = 'fig_TPD_DPMM_update.png'\n",
    "fig_all_master[this_fig_title] = fig_DPMM_approx\n",
    "\n",
    "# # save just this fig\n",
    "# fig_DPMM_approx.savefig('../'+this_fig_title)"
   ]
  },
  {
   "cell_type": "code",
   "execution_count": null,
   "metadata": {
    "scrolled": false
   },
   "outputs": [],
   "source": [
    "qint_bounds = (-5,25)\n",
    "lamint_bounds = (0,10)\n",
    "print('Dspace: Update Error')\n",
    "print('L2: ', sf.L2_err_1D(obs_dist,obs_DPMM_approx,\n",
    "                           qint_bounds[0],qint_bounds[1]))\n",
    "print('L1: ', sf.L1_err_1D(obs_dist,obs_DPMM_approx,\n",
    "                           qint_bounds[0],qint_bounds[1]))\n",
    "print()\n",
    "print('Pspace: Update Error')\n",
    "print('L2: ', sf.L2_err_1D(exact_update,update_DPMM_approx,\n",
    "                           lamint_bounds[0],lamint_bounds[1]))\n",
    "print('L1: ', sf.L1_err_1D(exact_update,update_DPMM_approx,\n",
    "                           lamint_bounds[0],lamint_bounds[1]))"
   ]
  },
  {
   "cell_type": "markdown",
   "metadata": {},
   "source": [
    "### Credible Interval for DPMM\n",
    "\n",
    "Here we use the credible interval for the observed distribution in the data space to construct a credible interval for the update in the data space."
   ]
  },
  {
   "cell_type": "code",
   "execution_count": null,
   "metadata": {},
   "outputs": [],
   "source": [
    "# number of samples\n",
    "this_M = 500\n",
    "\n",
    "# define the forward DPMM\n",
    "obs_DPMM_forward = sf.Forward_BGM_Model(obs_DPMM_approx)\n",
    "\n",
    "# get some sampled pdfs\n",
    "obs_DPMM_sample_params = obs_DPMM_forward.rvs(this_M)"
   ]
  },
  {
   "cell_type": "code",
   "execution_count": null,
   "metadata": {},
   "outputs": [],
   "source": [
    "obs_DPMM_sample_params['cov'].shape"
   ]
  },
  {
   "cell_type": "code",
   "execution_count": null,
   "metadata": {
    "scrolled": true
   },
   "outputs": [],
   "source": [
    "# add the small window to the pdf list\n",
    "pointwiseCI_DPMM = {'qy': {'x': qx}, 'lamy': {'x': lamx}}\n",
    "\n",
    "for key in pointwiseCI_DPMM:\n",
    "    this_x = pointwiseCI_DPMM[key]['x']\n",
    "    \n",
    "    if key=='qy':\n",
    "        post_ys = sf.batch_GMM_pdf(this_x,obs_DPMM_sample_params)\n",
    "    else:\n",
    "        # compute the update for each M\n",
    "        post_ys = np.zeros([this_M,this_x.shape[0]])\n",
    "        for m in np.arange(this_M):\n",
    "            this_mean = np.squeeze(obs_DPMM_sample_params['mean'][m])\n",
    "            this_std = np.squeeze(np.sqrt(obs_DPMM_sample_params['cov'][m]))\n",
    "            norms = [sps.norm(mu,sig) for mu,sig in zip(this_mean,this_std)]\n",
    "            this_weight = np.squeeze(obs_DPMM_sample_params['weight'][m])\n",
    "            \n",
    "            # observed mixture distribution\n",
    "            this_obs_mixture = sf.mixture_dist(norms,this_weight)\n",
    "            \n",
    "            # this dc update\n",
    "            this_update = dci_update(init_dist,predict_kde,this_obs_mixture,Q_map)\n",
    "            \n",
    "            post_ys[m] = this_update.pdf(this_x)\n",
    "        \n",
    "    pointwiseCI_DPMM[key]['sampled_post_ys'] = post_ys\n",
    "\n"
   ]
  },
  {
   "cell_type": "code",
   "execution_count": null,
   "metadata": {},
   "outputs": [],
   "source": [
    "print(pointwiseCI_DPMM['qy']['sampled_post_ys'].shape)\n",
    "print(pointwiseCI_DPMM['lamy']['sampled_post_ys'].shape)"
   ]
  },
  {
   "cell_type": "code",
   "execution_count": null,
   "metadata": {},
   "outputs": [],
   "source": [
    "# Plot the KDEs and ISE\n",
    "fig_update_DPMM_confidence, axes = plt.subplots(1,2)\n",
    "fig_update_DPMM_confidence.set_figwidth(12)\n",
    "\n",
    "# labels and stuff\n",
    "this_x = {'qy': qx, 'lamy': lamx}\n",
    "spacename = {'qy': '$\\mathcal{D}$', 'lamy': '$\\Lambda$'}\n",
    "mid_pdf = {'qy': sf.eval_pdf(qx,obs_DPMM_approx), \n",
    "           'lamy': sf.eval_pdf(lamx,update_DPMM_approx)}\n",
    "target_pdf = {'qy': obs_dist.pdf(qx), 'lamy': exact_update.pdf(lamx)}\n",
    "xlabels = {'qy': '$q$', 'lamy': '$\\lambda$'}\n",
    "\n",
    "for j, ax in enumerate(axes):\n",
    "    key = 'qy' if j==1 else 'lamy'\n",
    "    ax.plot(this_x[key],target_pdf[key],color='xkcd:black',ls='--',alpha=0.7,\n",
    "             label='Target')\n",
    "    ax.plot(this_x[key],mid_pdf[key],label='Exp. DPMM',color='C1')\n",
    "\n",
    "    # credible interval\n",
    "    this_ys = pointwiseCI_DPMM[key]['sampled_post_ys']\n",
    "    y_lower = np.quantile(this_ys,q=alphaCI/2,axis=0)\n",
    "    y_upper = np.quantile(this_ys,q=1-alphaCI/2,axis=0)\n",
    "    ax.fill_between(this_x[key],y_lower,y_upper,edgecolor='xkcd:red',\n",
    "                    facecolor='xkcd:yellow orange',alpha=0.5,zorder=2,\n",
    "                    label='{:0.0f}% CI'.format(100*(1-alphaCI)))\n",
    "\n",
    "    ax.set_title('{}: {}% CI with {}'.format(spacename[key],\n",
    "                                             int(100*(1-alphaCI)),\n",
    "                                            'DPMM'))\n",
    "    ax.legend()\n",
    "    ax.set_xlabel(xlabels[key])\n",
    "\n",
    "# savefig\n",
    "this_fig_title = 'fig_TP_update_DPMM_CI.png'\n",
    "fig_all_master[this_fig_title] = fig_update_DPMM_confidence\n",
    "\n",
    "# # save just this fig\n",
    "# fig_update_DPMM_confidence.savefig('../'+this_fig_title)"
   ]
  },
  {
   "cell_type": "markdown",
   "metadata": {},
   "source": [
    "### Components Plot\n",
    "\n",
    "Here we plot the results from the update using a DPMM componentwise."
   ]
  },
  {
   "cell_type": "code",
   "execution_count": null,
   "metadata": {},
   "outputs": [],
   "source": [
    "# compute each component observed\n",
    "this_model = obs_DPMM_approx\n",
    "these_pdf_outs = np.zeros([this_K,len(qx)])\n",
    "for k in np.arange(this_K): \n",
    "    this_mean = this_model.means_[k] \n",
    "    this_cov = this_model.covariances_[k]\n",
    "    this_weight = this_model.weights_[k]\n",
    "    these_pdf_outs[k,:] = this_weight*sps.multivariate_normal.pdf(qx,\n",
    "                                     mean = this_mean, cov = this_cov)"
   ]
  },
  {
   "cell_type": "code",
   "execution_count": null,
   "metadata": {},
   "outputs": [],
   "source": [
    "# plot the post sampled\n",
    "fig_DPMM_components_dspace, axes = plt.subplots(1,2)\n",
    "fig_DPMM_components_dspace.set_figwidth(10)\n",
    "\n",
    "key = 'post_DPMM'\n",
    "# plot target \n",
    "axes[0].plot(qx,sf.eval_pdf(qx,obs_dist), ls='--', label='Target',\n",
    "                color='k',alpha=0.4,zorder=-1)\n",
    "\n",
    "# plot expected posterior\n",
    "qy = sf.eval_pdf(qx,obs_DPMM_approx)\n",
    "axes[0].plot(qx,qy,label='Expected',zorder=0,linewidth=2)\n",
    "\n",
    "\n",
    "# bar graph of the weights\n",
    "mean_weights = obs_DPMM_forward.weight_dist.mean()\n",
    "\n",
    "# order K components: keep the top 5\n",
    "topX = 5\n",
    "large_ind_to_small = np.flip(np.argsort(mean_weights))\n",
    "print(large_ind_to_small[0:topX])\n",
    "colorlist = ['xkcd:orangered','xkcd:crimson','xkcd:orchid']+['C0']*(topX-3)\n",
    "weight_bars = np.arange(topX)+1\n",
    "\n",
    "# get forward sample to compute weight variances\n",
    "weight_std = np.sqrt(np.var(obs_DPMM_forward.weight_dist.rvs(500),\n",
    "                    ddof=1,axis=0))\n",
    "low_err = np.min(np.array([weight_std,mean_weights]),axis=0)\n",
    "err_bars = np.array([low_err,weight_std])\n",
    "\n",
    "# bar plot\n",
    "axes[1].bar(weight_bars,mean_weights[large_ind_to_small[0:topX]],edgecolor=colorlist,\n",
    "               linewidth=2,tick_label=large_ind_to_small[0:topX]+1,\n",
    "                yerr=err_bars[:,large_ind_to_small[0:topX]],\n",
    "                  error_kw={'capsize': 4}\n",
    "               )\n",
    "\n",
    "# plot the components\n",
    "for k,y_pdf in enumerate(these_pdf_outs[large_ind_to_small[0:topX]]):\n",
    "#     print(k,mean_weights[k])\n",
    "    axes[0].plot(qx,y_pdf, color=colorlist[k],ls='-.',\n",
    "                    linewidth=2)\n",
    "\n",
    "axes[0].legend()\n",
    "\n",
    "# set titles:\n",
    "this_alpha = [1]\n",
    "axes[0].set_title('$\\mathcal{D}$: Posterior DPMM Comonents')\n",
    "axes[1].set_title('Posterior Average Weights')\n",
    "\n",
    "# labels\n",
    "axes[0].set_xlabel('$q$')\n",
    "axes[1].set_xlabel('Component # $k$')\n",
    "# use ylim of first plot\n",
    "\n",
    "# savefig\n",
    "this_fig_title = 'fig_TPD_DPMM_post_component.png'\n",
    "fig_all_master[this_fig_title] = fig_DPMM_components_dspace\n",
    "\n",
    "# # save just this fig\n",
    "# fig_DPMM_components_dspace.savefig('../'+this_fig_title)"
   ]
  },
  {
   "cell_type": "code",
   "execution_count": null,
   "metadata": {},
   "outputs": [],
   "source": [
    "large_ind_to_small[0:topX]"
   ]
  },
  {
   "cell_type": "code",
   "execution_count": null,
   "metadata": {},
   "outputs": [],
   "source": [
    "this_model = obs_DPMM_approx\n",
    "these_updates = {}\n",
    "for k in large_ind_to_small[0:topX]:\n",
    "    if this_model.weights_[k]>0.01:\n",
    "        this_mean = this_model.means_[k] \n",
    "        this_cov = this_model.covariances_[k]\n",
    "        this_weight = this_model.weights_[k]\n",
    "        this_obs = sps.multivariate_normal(mean = this_mean, cov = this_cov)\n",
    "        these_updates[k] = (this_weight,\n",
    "                            dci_update(init_dist,predict_kde,this_obs,Q_map))"
   ]
  },
  {
   "cell_type": "code",
   "execution_count": null,
   "metadata": {},
   "outputs": [],
   "source": [
    "for key in these_updates:\n",
    "    plt.plot(lamx,these_updates[key][0]*these_updates[key][1].pdf(lamx))"
   ]
  },
  {
   "cell_type": "code",
   "execution_count": null,
   "metadata": {},
   "outputs": [],
   "source": [
    "these_updates.keys()"
   ]
  },
  {
   "cell_type": "code",
   "execution_count": null,
   "metadata": {},
   "outputs": [],
   "source": [
    "list(spacename.keys())[0]"
   ]
  },
  {
   "cell_type": "code",
   "execution_count": null,
   "metadata": {},
   "outputs": [],
   "source": [
    "fig_update_components, axes = plt.subplots(3,2)\n",
    "fig_update_components.set_figwidth(8)\n",
    "fig_update_components.set_figheight(8*1.25)\n",
    "\n",
    "spacetitles = ['$\\\\Lambda$: Update Components',\n",
    "               '$\\\\mathcal{D}$: Components of DPMM']\n",
    "for i,ax_row in enumerate(axes):\n",
    "    this_ind = large_ind_to_small[i]\n",
    "    for j,ax in enumerate(ax_row):\n",
    "        if j==0:\n",
    "            this_x = lamx \n",
    "            # exact update\n",
    "            ax.plot(this_x,sf.eval_pdf(this_x,update_DPMM_approx),alpha=0.75)\n",
    "            \n",
    "            # component update\n",
    "            this_weight = these_updates[this_ind][0]\n",
    "            this_component_pdf = this_weight*these_updates[this_ind][1].pdf(this_x) \n",
    "            ax.plot(this_x,this_component_pdf, color=colorlist[i],ls='-.',\n",
    "                    linewidth=2,label='Comp. {}'.format(this_ind+1))\n",
    "        \n",
    "        else:\n",
    "            this_x = qx\n",
    "            # exact obs\n",
    "            ax.plot(this_x,sf.eval_pdf(this_x,obs_dist),alpha=0.75)\n",
    "            # component obs\n",
    "            ax.plot(this_x,these_pdf_outs[this_ind], color=colorlist[i],ls='-.',\n",
    "                    linewidth=2,label='Comp. {}'.format(this_ind+1))\n",
    "        \n",
    "        # labels and things\n",
    "        ax.legend()\n",
    "        \n",
    "        if i==0:\n",
    "            ax.set_title(spacetitles[j])\n",
    "        elif i==2:\n",
    "            xlab = '$\\\\lambda$' if j==0 else '$q$'\n",
    "            ax.set_xlabel(xlab)\n",
    "\n",
    "# savefig\n",
    "this_fig_title = 'fig_TPD_update_component.png'\n",
    "fig_all_master[this_fig_title] = fig_update_components\n",
    "\n",
    "# # save just this fig\n",
    "# fig_update_components.savefig('../'+this_fig_title)            "
   ]
  },
  {
   "cell_type": "markdown",
   "metadata": {},
   "source": [
    "## Compare Convergence Plots\n",
    "\n",
    "Here we compare the convergence of the data-consistent update using a GKDE vs. a DPMM (defined above). We load the data for the MISE for the convergence of the observed (and thus the updated) distributions."
   ]
  },
  {
   "cell_type": "code",
   "execution_count": null,
   "metadata": {},
   "outputs": [],
   "source": [
    "# try loading expensive kde error computations from\n",
    "# saved file\n",
    "try:\n",
    "    update_kde_error = np.load(EM.tri_peak_update_MISE_name+'.npz',allow_pickle=True)\n",
    "    update_DPMM_error = np.load(EM.tri_peak_DPMM_name+'.npz',allow_pickle=True)\n",
    "    kde_error_data = np.load(EM.tri_peak_MISE_name+'.npz',allow_pickle=True)\n",
    "except FileNotFoundError as err:\n",
    "    print('File not found. Did you run the notebook '+\n",
    "          'with expensive computations?')\n",
    "    raise err\n",
    "    \n",
    "# check what keys are in the file\n",
    "print(update_kde_error.files)\n",
    "print(update_DPMM_error.files)\n",
    "print(kde_error_data.files)"
   ]
  },
  {
   "cell_type": "code",
   "execution_count": null,
   "metadata": {},
   "outputs": [],
   "source": [
    "# organize the data for plot\n",
    "MISE_lines = {'lamx': {'L1_kde': {'err_data': update_kde_error['updateMISE_L1']},\n",
    "                       'L2_kde': {'err_data': update_kde_error['updateMISE_L2']},\n",
    "                       'L1_DPMM': {'err_data': update_DPMM_error['DPMM_err_L1']},\n",
    "                       'L2_DPMM': {'err_data': update_DPMM_error['DPMM_up_err_L2']}\n",
    "                      },\n",
    "              'qx': {'L1_kde': {'err_data': update_kde_error['updateMISE_L1']},\n",
    "                       'L2_kde': {'err_data': kde_error_data['hIQRD_MISE']},\n",
    "                       'L1_DPMM': {'err_data': update_DPMM_error['DPMM_err_L1']},\n",
    "                       'L2_DPMM': {'err_data': update_DPMM_error['DPMM_err_L2']}\n",
    "                    }\n",
    "             }\n",
    "\n"
   ]
  },
  {
   "cell_type": "code",
   "execution_count": null,
   "metadata": {},
   "outputs": [],
   "source": [
    "update_kde_error['updateMISE_L1'].shape"
   ]
  },
  {
   "cell_type": "code",
   "execution_count": null,
   "metadata": {},
   "outputs": [],
   "source": [
    "# compute the MISE using linear regression\n",
    "for space in MISE_lines:\n",
    "    # get the dictionary for this set\n",
    "    this_err_set = MISE_lines[space]\n",
    "    \n",
    "    # compute linear regression for each\n",
    "    for errtype in this_err_set:\n",
    "        \n",
    "        # take logarithms to put on log-log-scale\n",
    "        y_n = this_err_set[errtype]['err_data']\n",
    "        y_var = np.std(y_n,ddof=1,axis=0)\n",
    "        \n",
    "        # reshape to agree with the dimesnions of data\n",
    "        this_Bn = y_n.shape[0]\n",
    "        x_n = np.log(N_list*this_Bn) \n",
    "        y_err = np.log(y_n.reshape(-1,))\n",
    "\n",
    "        # get the line and save with variance\n",
    "        this_MISE_line = np.polynomial.polynomial.Polynomial.fit(x_n,y_err,1)\n",
    "        MISE_lines[space][errtype]['line'] = this_MISE_line\n",
    "        MISE_lines[space][errtype]['std_err'] = y_var\n"
   ]
  },
  {
   "cell_type": "code",
   "execution_count": null,
   "metadata": {},
   "outputs": [],
   "source": [
    "# Compare the convergence of DPMM to KDE\n",
    "fig_converge_compare, axes = plt.subplots(1,2,sharey=True)\n",
    "fig_converge_compare.set_figwidth(8)\n",
    "\n",
    "colorlist = {'L1_kde': 'xkcd:sky blue', 'L2_kde': 'C0',\n",
    "             'L1_DPMM': 'xkcd:tangerine','L2_DPMM': 'C1'}\n",
    "markerlist = {'L1_kde': '^', 'L2_kde': 'o',\n",
    "             'L1_DPMM': '^','L2_DPMM': 'o'}\n",
    "labellist = {'L1_kde': '$L^1$ GKDE', 'L2_kde': '$L^2$ GKDE',\n",
    "             'L1_DPMM': '$L^1$ DPMM','L2_DPMM': '$L^2$ DPMM'}\n",
    "for i,space in enumerate(MISE_lines):\n",
    "    # get the dictionary for this set\n",
    "    this_err_set = MISE_lines[space]\n",
    "    \n",
    "    # plot each error type\n",
    "    for errtype in this_err_set:        \n",
    "        # take logarithms to put on log-log-scale\n",
    "        x_n = np.log(N_list) \n",
    "        y_n = this_err_set[errtype]['line'](x_n)\n",
    "        y_var = this_err_set[errtype]['std_err']\n",
    "\n",
    "        midpoint = (x_n[-1]+x_n[0])/2\n",
    "        y_label = this_err_set[errtype]['line'](midpoint)\n",
    "        y_label += 0.5 if i ==0 else -0.5\n",
    "        \n",
    "#         axes[i].annotate(\"$m={1:0.2}$, $b={0:0.2}$\".format(*this_err_set[errtype]['line'].coef),\n",
    "#                      xy = (midpoint,y_label), ha='right')\n",
    "        \n",
    "        axes[i].errorbar(x_n,y_n, yerr = y_var,\n",
    "                         marker=markerlist[errtype],color=colorlist[errtype],\n",
    "                    barsabove=True,capsize=4,label=labellist[errtype])\n",
    "        \n",
    "                \n",
    "    # labels and stuff\n",
    "    if i ==0:\n",
    "        title = 'Convergence Rate in $\\Lambda$' \n",
    "    else:\n",
    "        title = 'Convergence Rate in $\\mathcal{D}$'\n",
    "    axes[i].set_title(title)\n",
    "    axes[i].set_ylabel('Log Error')\n",
    "    axes[i].legend()\n",
    "    axes[i].set_xlabel('Log Sample Size $n$')\n",
    "\n",
    "\n",
    "# savefig\n",
    "this_fig_title = 'fig_TPD_compare_converge.png'\n",
    "fig_all_master[this_fig_title] = fig_converge_compare\n",
    "\n",
    "# # save just this fig\n",
    "# fig_converge_compare.savefig('../'+this_fig_title)"
   ]
  },
  {
   "cell_type": "markdown",
   "metadata": {},
   "source": [
    "# Save All Figs"
   ]
  },
  {
   "cell_type": "code",
   "execution_count": null,
   "metadata": {},
   "outputs": [],
   "source": [
    "# make sure all the figures are there\n",
    "for key in fig_all_master.keys():\n",
    "    print(key)"
   ]
  },
  {
   "cell_type": "code",
   "execution_count": null,
   "metadata": {},
   "outputs": [],
   "source": [
    "# check individual figures\n",
    "check_name = None\n",
    "if check_name == None:\n",
    "    print()\n",
    "else:\n",
    "    fig_all_master[check_name]"
   ]
  },
  {
   "cell_type": "markdown",
   "metadata": {},
   "source": [
    "**[Advice for fig parameters](http://aeturrell.com/2018/01/31/publication-quality-plots-in-python/)**\n",
    "\n",
    "The above link provides some good guidance for figure parameters."
   ]
  },
  {
   "cell_type": "code",
   "execution_count": null,
   "metadata": {},
   "outputs": [],
   "source": [
    "# # # save all figs\n",
    "# for figfilename in fig_all_master:\n",
    "#     fig_all_master[figfilename].savefig('../'+figfilename,\n",
    "#                                         dpi=250,bbox_inches='tight')"
   ]
  }
 ],
 "metadata": {
  "kernelspec": {
   "display_name": "Python 3",
   "language": "python",
   "name": "python3"
  },
  "language_info": {
   "codemirror_mode": {
    "name": "ipython",
    "version": 3
   },
   "file_extension": ".py",
   "mimetype": "text/x-python",
   "name": "python",
   "nbconvert_exporter": "python",
   "pygments_lexer": "ipython3",
   "version": "3.8.5"
  }
 },
 "nbformat": 4,
 "nbformat_minor": 4
}
